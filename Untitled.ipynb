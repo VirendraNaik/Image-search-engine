{
 "cells": [
  {
   "cell_type": "code",
   "execution_count": 23,
   "id": "3bb35577",
   "metadata": {},
   "outputs": [
    {
     "name": "stdout",
     "output_type": "stream",
     "text": [
      "done\n"
     ]
    }
   ],
   "source": [
    "# Import the libraries\n",
    "from tensorflow.keras.preprocessing import image\n",
    "from tensorflow.keras.applications.vgg16 import VGG16, preprocess_input\n",
    "from tensorflow.keras.models import Model\n",
    "from pathlib import Path\n",
    "from PIL import Image\n",
    "import glob\n",
    "import numpy as np\n",
    "print(\"done\")\n",
    "\n"
   ]
  },
  {
   "cell_type": "code",
   "execution_count": 24,
   "id": "62286603",
   "metadata": {},
   "outputs": [
    {
     "name": "stdout",
     "output_type": "stream",
     "text": [
      "datasets\\0.jpg\n",
      "datasets\\1.jpg\n",
      "datasets\\10.jpg\n",
      "datasets\\11.jpg\n",
      "datasets\\12.jpg\n",
      "datasets\\13.jpg\n",
      "datasets\\14.jpg\n",
      "datasets\\15.jpg\n",
      "datasets\\16.jpg\n",
      "datasets\\17.jpg\n",
      "datasets\\18.jpg\n",
      "datasets\\19.jpg\n",
      "datasets\\2.jpg\n",
      "datasets\\20.jpg\n",
      "datasets\\21.jpg\n",
      "datasets\\22.jpg\n",
      "datasets\\23.jpg\n",
      "datasets\\24.jpg\n",
      "datasets\\25.jpg\n",
      "datasets\\26.jpg\n",
      "datasets\\27.jpg\n",
      "datasets\\28.jpg\n",
      "datasets\\29.jpg\n",
      "datasets\\3.jpg\n",
      "datasets\\30.jpg\n",
      "datasets\\31.jpg\n",
      "datasets\\32.jpg\n",
      "datasets\\33.jpg\n",
      "datasets\\34.jpg\n",
      "datasets\\35.jpg\n",
      "datasets\\36.jpg\n",
      "datasets\\37.jpg\n",
      "datasets\\38.jpg\n",
      "datasets\\39.jpg\n",
      "datasets\\4.jpg\n",
      "datasets\\40.jpg\n",
      "datasets\\41.jpg\n",
      "datasets\\42.jpg\n",
      "datasets\\43.jpg\n",
      "datasets\\44.jpg\n",
      "datasets\\45.jpg\n",
      "datasets\\46.jpg\n",
      "datasets\\47.jpg\n",
      "datasets\\48.jpg\n",
      "datasets\\49.jpg\n",
      "datasets\\5.jpg\n",
      "datasets\\50.jpg\n",
      "datasets\\6.jpg\n",
      "datasets\\7.jpg\n",
      "datasets\\8.jpg\n",
      "datasets\\9.jpg\n"
     ]
    }
   ],
   "source": [
    "class FeatureExtractor:\n",
    "    def __init__(self):\n",
    "        # Use VGG-16 as the architecture and ImageNet for the weight\n",
    "        base_model = VGG16(weights='imagenet')\n",
    "        # Customize the model to return features from fully-connected layer\n",
    "        self.model = Model(inputs=base_model.input, outputs=base_model.get_layer('fc1').output)\n",
    "    def extract(self, img):\n",
    "        # Resize the image\n",
    "        img = img.resize((224, 224))\n",
    "        # Convert the image color space\n",
    "        img = img.convert('RGB')\n",
    "        # Reformat the image\n",
    "        x = image.img_to_array(img)\n",
    "        x = np.expand_dims(x, axis=0)\n",
    "        x = preprocess_input(x)\n",
    "        # Extract Features\n",
    "        feature = self.model.predict(x)[0]\n",
    "        return feature / np.linalg.norm(feature)\n",
    "# Iterate through images (Change the path based on your image location)\n",
    "# for filename in glob.glob('yourpath/*.gif'): #assuming gif\n",
    "#     im=Image.open(filename)\n",
    "for img_path in glob.glob('datasets/*.jpg'):\n",
    "    print(img_path)\n",
    "    # Extract Features\n",
    "    fe=FeatureExtractor()\n",
    "    feature = fe.extract(img=Image.open(img_path))\n",
    "    # Save the Numpy array (.npy) on designated path\n",
    "    feature_path = \"feature_array.npy\"\n",
    "    np.save(feature_path, feature)"
   ]
  },
  {
   "cell_type": "code",
   "execution_count": 20,
   "id": "9ef8c7e3",
   "metadata": {},
   "outputs": [
    {
     "ename": "NameError",
     "evalue": "name 'features' is not defined",
     "output_type": "error",
     "traceback": [
      "\u001b[1;31m---------------------------------------------------------------------------\u001b[0m",
      "\u001b[1;31mNameError\u001b[0m                                 Traceback (most recent call last)",
      "\u001b[1;32m<ipython-input-20-2f3fdee2750b>\u001b[0m in \u001b[0;36m<module>\u001b[1;34m\u001b[0m\n\u001b[0;32m      7\u001b[0m \u001b[0mquery\u001b[0m \u001b[1;33m=\u001b[0m \u001b[0mfe\u001b[0m\u001b[1;33m.\u001b[0m\u001b[0mextract\u001b[0m\u001b[1;33m(\u001b[0m\u001b[0mimg\u001b[0m\u001b[1;33m)\u001b[0m\u001b[1;33m\u001b[0m\u001b[1;33m\u001b[0m\u001b[0m\n\u001b[0;32m      8\u001b[0m \u001b[1;31m# Calculate the similarity (distance) between images\u001b[0m\u001b[1;33m\u001b[0m\u001b[1;33m\u001b[0m\u001b[1;33m\u001b[0m\u001b[0m\n\u001b[1;32m----> 9\u001b[1;33m \u001b[0mdists\u001b[0m \u001b[1;33m=\u001b[0m \u001b[0mnp\u001b[0m\u001b[1;33m.\u001b[0m\u001b[0mlinalg\u001b[0m\u001b[1;33m.\u001b[0m\u001b[0mnorm\u001b[0m\u001b[1;33m(\u001b[0m\u001b[0mfeatures\u001b[0m \u001b[1;33m-\u001b[0m \u001b[0mquery\u001b[0m\u001b[1;33m,\u001b[0m \u001b[0maxis\u001b[0m\u001b[1;33m=\u001b[0m\u001b[1;36m1\u001b[0m\u001b[1;33m)\u001b[0m\u001b[1;33m\u001b[0m\u001b[1;33m\u001b[0m\u001b[0m\n\u001b[0m\u001b[0;32m     10\u001b[0m \u001b[1;31m# Extract 30 images that have lowest distance\u001b[0m\u001b[1;33m\u001b[0m\u001b[1;33m\u001b[0m\u001b[1;33m\u001b[0m\u001b[0m\n\u001b[0;32m     11\u001b[0m \u001b[0mids\u001b[0m \u001b[1;33m=\u001b[0m \u001b[0mnp\u001b[0m\u001b[1;33m.\u001b[0m\u001b[0margsort\u001b[0m\u001b[1;33m(\u001b[0m\u001b[0mdists\u001b[0m\u001b[1;33m)\u001b[0m\u001b[1;33m[\u001b[0m\u001b[1;33m:\u001b[0m\u001b[1;36m30\u001b[0m\u001b[1;33m]\u001b[0m\u001b[1;33m\u001b[0m\u001b[1;33m\u001b[0m\u001b[0m\n",
      "\u001b[1;31mNameError\u001b[0m: name 'features' is not defined"
     ]
    }
   ],
   "source": [
    "# Import the libraries\n",
    "import matplotlib.pyplot as plt\n",
    "import numpy as np\n",
    "# Insert the image query\n",
    "img = Image.open(\"test/65.jpg\")\n",
    "# Extract its features\n",
    "query = fe.extract(img)\n",
    "# Calculate the similarity (distance) between images\n",
    "dists = np.linalg.norm(features - query, axis=1)\n",
    "# Extract 30 images that have lowest distance\n",
    "ids = np.argsort(dists)[:30]\n",
    "scores = [(dists[id], img_paths[id]) for id in ids]\n",
    "# Visualize the result\n",
    "axes=[]\n",
    "fig=plt.figure(figsize=(8,8))\n",
    "for a in range(5*6):\n",
    "    score = scores[a]\n",
    "    axes.append(fig.add_subplot(5, 6, a+1))\n",
    "    subplot_title=str(score[0])\n",
    "    axes[-1].set_title(subplot_title)  \n",
    "    plt.axis('off')\n",
    "    plt.imshow(Image.open(score[1]))\n",
    "fig.tight_layout()\n",
    "plt.show()"
   ]
  },
  {
   "cell_type": "code",
   "execution_count": null,
   "id": "f16e41fb",
   "metadata": {},
   "outputs": [],
   "source": []
  }
 ],
 "metadata": {
  "kernelspec": {
   "display_name": "Python 3",
   "language": "python",
   "name": "python3"
  },
  "language_info": {
   "codemirror_mode": {
    "name": "ipython",
    "version": 3
   },
   "file_extension": ".py",
   "mimetype": "text/x-python",
   "name": "python",
   "nbconvert_exporter": "python",
   "pygments_lexer": "ipython3",
   "version": "3.9.1"
  }
 },
 "nbformat": 4,
 "nbformat_minor": 5
}
